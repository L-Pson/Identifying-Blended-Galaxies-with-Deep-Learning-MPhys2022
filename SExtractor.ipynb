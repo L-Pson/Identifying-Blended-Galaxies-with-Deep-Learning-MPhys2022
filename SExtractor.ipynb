{
 "cells": [
  {
   "cell_type": "markdown",
   "id": "be9f8f59-1935-49c1-8c32-3847ba0c0841",
   "metadata": {},
   "source": [
    "This notebook runs SExtractor on the test dataset."
   ]
  },
  {
   "cell_type": "code",
   "execution_count": 1,
   "id": "df47de9a-5dd6-4f52-a3c1-bb856e036ffa",
   "metadata": {},
   "outputs": [
    {
     "name": "stdout",
     "output_type": "stream",
     "text": [
      "Imported\n"
     ]
    }
   ],
   "source": [
    "import numpy as np\n",
    "import sep\n",
    "import tensorflow as tf\n",
    "import matplotlib.pyplot as plt\n",
    "from matplotlib.patches import Ellipse\n",
    "\n",
    "print(\"Imported\")"
   ]
  },
  {
   "cell_type": "code",
   "execution_count": 2,
   "id": "f631e929-9596-439b-996b-e14d786dd2d2",
   "metadata": {},
   "outputs": [
    {
     "name": "stdout",
     "output_type": "stream",
     "text": [
      "Found 4401 files belonging to 2 classes.\n"
     ]
    }
   ],
   "source": [
    "image_size = (128, 128)\n",
    "batch_size = 32\n",
    "test_ds = tf.keras.preprocessing.image_dataset_from_directory(\n",
    "    \"tfData-testing\",\n",
    "    seed=1337,\n",
    "    image_size=image_size,\n",
    "    batch_size=batch_size,\n",
    "    shuffle = True,\n",
    "    color_mode=\"grayscale\"\n",
    ")"
   ]
  },
  {
   "cell_type": "code",
   "execution_count": 3,
   "id": "03707c94-f2ff-4180-986e-120638bb542e",
   "metadata": {},
   "outputs": [],
   "source": [
    "# need to reshape test dataset to work with individual images\n",
    "\n",
    "rows = []\n",
    "for row in test_ds.unbatch().as_numpy_iterator():\n",
    "    rows.append(row)"
   ]
  },
  {
   "cell_type": "code",
   "execution_count": 6,
   "id": "d25c379e-2f3d-4d7d-9d6e-31bf7928adb6",
   "metadata": {},
   "outputs": [
    {
     "name": "stdout",
     "output_type": "stream",
     "text": [
      "CPU times: total: 16.6 s\n",
      "Wall time: 16.7 s\n"
     ]
    }
   ],
   "source": [
    "%%time\n",
    "predictions = []\n",
    "truth = []\n",
    "\n",
    "# for each image in the dataset, analyse with sextractor\n",
    "for (arr, label) in rows:\n",
    "    #fig, ax = plt.subplots(1,1)\n",
    "    img = arr[:, :, 0].copy() #remove colour channel, and make copy (SExtractor requires a copy)\n",
    "    \n",
    "    #plt.imshow(img)\n",
    "    \n",
    "    bkg = sep.Background(img) #calculate background of image\n",
    "    img_sub = img - bkg # create new image with background subtracted\n",
    "\n",
    "    objects = sep.extract(img_sub, 1.5, err=bkg.globalrms) # extract all of the objects from the image\n",
    "    \n",
    "    if len(objects) > 1: \n",
    "        predictions.append(\"Blended\")\n",
    "    else:\n",
    "        predictions.append(\"Unblended\")\n",
    "        \n",
    "    if label == 0:\n",
    "        truth.append(\"Blended\")\n",
    "    else:\n",
    "        truth.append(\"Unblended\")\n",
    "    \n",
    "    \n",
    "    #for i in range(len(objects)):\n",
    "    #    e = Ellipse(xy=(objects['x'][i], objects['y'][i]),\n",
    "    #    width=6*objects['a'][i],\n",
    "    #    height=6*objects['b'][i],\n",
    "    #    angle=objects['theta'][i] * 180. / np.pi)\n",
    "    #    e.set_facecolor('none')\n",
    "    #    e.set_edgecolor('red')\n",
    "    #    ax.add_artist(e)"
   ]
  },
  {
   "cell_type": "code",
   "execution_count": 9,
   "id": "0c328678-daa9-455f-99b4-ac7af2197f0d",
   "metadata": {},
   "outputs": [
    {
     "name": "stdout",
     "output_type": "stream",
     "text": [
      "Recall  0.8915\n",
      "Precision  0.9171810699588477\n",
      "CPU times: total: 0 ns\n",
      "Wall time: 2 ms\n"
     ]
    }
   ],
   "source": [
    "%%time\n",
    "\n",
    "tp = 0\n",
    "fp = 0\n",
    "tn = 0\n",
    "fn = 0\n",
    "\n",
    "# calculate confusion matrix elements\n",
    "for i in range(len(predictions)):\n",
    "    pred = predictions[i]\n",
    "    tru = truth[i]\n",
    "    if pred == \"Blended\" and tru == \"Blended\":\n",
    "        tp+=1\n",
    "    elif pred == \"Blended\" and tru == \"Unblended\":\n",
    "        fp+=1\n",
    "    elif pred == \"Unblended\" and tru == \"Unblended\":\n",
    "        tn+=1\n",
    "    elif pred == \"Unblended\" and tru == \"Blended\":\n",
    "        fn+=1\n",
    "\n",
    "print(\"Recall \", tp/(tp+fn))\n",
    "print(\"Precision \", tp/(tp+fp))"
   ]
  }
 ],
 "metadata": {
  "kernelspec": {
   "display_name": "Python 3 (ipykernel)",
   "language": "python",
   "name": "python3"
  },
  "language_info": {
   "codemirror_mode": {
    "name": "ipython",
    "version": 3
   },
   "file_extension": ".py",
   "mimetype": "text/x-python",
   "name": "python",
   "nbconvert_exporter": "python",
   "pygments_lexer": "ipython3",
   "version": "3.10.0"
  }
 },
 "nbformat": 4,
 "nbformat_minor": 5
}
