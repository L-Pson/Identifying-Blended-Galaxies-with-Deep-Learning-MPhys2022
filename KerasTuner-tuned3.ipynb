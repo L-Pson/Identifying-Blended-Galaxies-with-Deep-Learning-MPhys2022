{
 "cells": [
  {
   "cell_type": "code",
   "execution_count": 1,
   "id": "64225d95-ddd2-4f2e-803b-70902366cb40",
   "metadata": {},
   "outputs": [],
   "source": [
    "import tensorflow as tf\n",
    "import keras_tuner as kt\n",
    "import numpy as np\n",
    "from tensorflow import keras"
   ]
  },
  {
   "cell_type": "code",
   "execution_count": 2,
   "id": "afcb6bd5-33d7-4d1d-89d3-a625265b2746",
   "metadata": {},
   "outputs": [],
   "source": [
    "def model(hp):\n",
    "    threshold = 0.5\n",
    "\n",
    "    kernelPower1 = hp.Int(\"kernelPower1\", min_value=1, max_value=8, step=1)\n",
    "    kernelPower2 = hp.Int(\"kernelPower2\", min_value=1, max_value=8, step=1)\n",
    "    kernelPower3 = hp.Int(\"kernelPower3\", min_value=1, max_value=8, step=1)\n",
    "    kernelPower4 = hp.Int(\"kernelPower4\", min_value=1, max_value=8, step=1)\n",
    "    kernelPower5 = hp.Int(\"kernelPower5\", min_value=1, max_value=8, step=1)\n",
    "    \n",
    "    \n",
    "    METRICS = [\n",
    "      #keras.metrics.TruePositives(name='tp', thresholds=threshold),\n",
    "      #keras.metrics.FalsePositives(name='fp', thresholds=threshold),\n",
    "      #keras.metrics.TrueNegatives(name='tn',thresholds=threshold),\n",
    "      #keras.metrics.FalseNegatives(name='fn',thresholds=threshold), \n",
    "      keras.metrics.BinaryAccuracy(name='accuracy',threshold=threshold),\n",
    "      keras.metrics.Precision(name='precision',thresholds=threshold),\n",
    "      keras.metrics.Recall(name='recall',thresholds=threshold),\n",
    "      #tfa.metrics.FBetaScore(name=\"fbeta\", num_classes=1,beta=float(2),average='macro')\n",
    "      #keras.metrics.SpecificityAtSensitivity(sensitivity=.95, name='SensAt95',threshold=threshold)\n",
    "      #keras.metrics.AUC(name='auc'),\n",
    "      #keras.metrics.AUC(name='prc', curve='PR'), # precision-recall curve\n",
    "    ]\n",
    "    \n",
    "    model = tf.keras.models.Sequential([\n",
    "        # This is the first convolution\n",
    "        tf.keras.layers.Conv2D(2**kernelPower1, (3,3), activation='relu', input_shape=(128, 128, 1)),\n",
    "        tf.keras.layers.MaxPooling2D(2, 2),\n",
    "        # The second convolution\n",
    "        tf.keras.layers.Conv2D(2**kernelPower2, (3,3), activation='relu'),\n",
    "        tf.keras.layers.MaxPooling2D(2,2),\n",
    "        # The third convolution\n",
    "        tf.keras.layers.Conv2D(2**kernelPower3, (3,3), activation='relu'),\n",
    "        tf.keras.layers.MaxPooling2D(2,2),\n",
    "        # The fourth convolution\n",
    "        tf.keras.layers.Conv2D(2**kernelPower4, (3,3), activation='relu'),\n",
    "        tf.keras.layers.MaxPooling2D(2,2),\n",
    "        # # The fifth convolution\n",
    "        tf.keras.layers.Conv2D(2**kernelPower5, (3,3), activation='relu'),\n",
    "        tf.keras.layers.MaxPooling2D(2,2),\n",
    "        tf.keras.layers.Flatten(),\n",
    "        # 512 neuron hidden layer\n",
    "        tf.keras.layers.Dense(2**(kernelPower5), activation='relu'),\n",
    "        tf.keras.layers.Dense(1, activation='sigmoid')])\n",
    "                         \n",
    "                         \n",
    "    model.compile(\n",
    "        optimizer=keras.optimizers.Adam(1e-3),\n",
    "        loss=\"binary_crossentropy\",\n",
    "        metrics=METRICS,\n",
    "    )\n",
    "                         \n",
    "    return(model)                     "
   ]
  },
  {
   "cell_type": "code",
   "execution_count": 3,
   "id": "5792ad74-7e52-4060-bfde-900638b4bfe2",
   "metadata": {},
   "outputs": [
    {
     "name": "stdout",
     "output_type": "stream",
     "text": [
      "Found 17600 files belonging to 2 classes.\n",
      "Using 13200 files for training.\n",
      "Found 17600 files belonging to 2 classes.\n",
      "Using 4400 files for validation.\n",
      "Found 4401 files belonging to 2 classes.\n"
     ]
    }
   ],
   "source": [
    "image_size = (128, 128)\n",
    "batch_size = 32\n",
    "\n",
    "train_ds = tf.keras.preprocessing.image_dataset_from_directory(\n",
    "    \"tfData-training-and-validation\",\n",
    "    validation_split=0.25,\n",
    "    subset=\"training\",\n",
    "    seed=1337,\n",
    "    image_size=image_size,\n",
    "    batch_size=batch_size,\n",
    "    shuffle = True,\n",
    "    color_mode = \"grayscale\"\n",
    ")\n",
    "val_ds = tf.keras.preprocessing.image_dataset_from_directory(\n",
    "    \"tfData-training-and-validation\",\n",
    "    validation_split=0.25,\n",
    "    subset=\"validation\",\n",
    "    seed=1337,\n",
    "    image_size=image_size,\n",
    "    batch_size=batch_size,\n",
    "    shuffle = True,\n",
    "    color_mode=\"grayscale\"\n",
    ")\n",
    "test_ds = tf.keras.preprocessing.image_dataset_from_directory(\n",
    "    \"tfData-testing\",\n",
    "    seed=1337,\n",
    "    image_size=image_size,\n",
    "    batch_size=batch_size,\n",
    "    shuffle = True,\n",
    "    color_mode=\"grayscale\"\n",
    ")"
   ]
  },
  {
   "cell_type": "code",
   "execution_count": 4,
   "id": "e073c97f-3415-4354-9759-12e568af7ec9",
   "metadata": {},
   "outputs": [],
   "source": [
    "tuner = kt.Hyperband(\n",
    "    model,\n",
    "    objective='val_loss',\n",
    "    max_epochs=35)"
   ]
  },
  {
   "cell_type": "code",
   "execution_count": 5,
   "id": "2419259e-c828-419b-a218-e95a539e5698",
   "metadata": {},
   "outputs": [
    {
     "name": "stdout",
     "output_type": "stream",
     "text": [
      "Trial 90 Complete [00h 12m 04s]\n",
      "val_loss: 0.2968235909938812\n",
      "\n",
      "Best val_loss So Far: 0.04208162799477577\n",
      "Total elapsed time: 04h 11m 12s\n",
      "INFO:tensorflow:Oracle triggered exit\n"
     ]
    }
   ],
   "source": [
    "tuner.search(train_ds, epochs=5, validation_data=val_ds)"
   ]
  },
  {
   "cell_type": "code",
   "execution_count": 6,
   "id": "8e2cd8e7-2f07-4e81-ad74-b8781d3adeea",
   "metadata": {},
   "outputs": [],
   "source": [
    "best_hyperparameters = tuner.get_best_hyperparameters()"
   ]
  },
  {
   "cell_type": "code",
   "execution_count": 8,
   "id": "0c0ece37-428b-42a2-ae1b-93ab8cce60fd",
   "metadata": {},
   "outputs": [
    {
     "name": "stdout",
     "output_type": "stream",
     "text": [
      "7\n",
      "6\n",
      "6\n",
      "5\n",
      "5\n"
     ]
    }
   ],
   "source": [
    "for hyperparameters in best_hyperparameters:\n",
    "    print(hyperparameters.get(\"kernelPower1\"))\n",
    "    print(hyperparameters.get(\"kernelPower2\"))\n",
    "    print(hyperparameters.get(\"kernelPower3\"))\n",
    "    print(hyperparameters.get(\"kernelPower4\"))\n",
    "    print(hyperparameters.get(\"kernelPower5\"))"
   ]
  }
 ],
 "metadata": {
  "kernelspec": {
   "display_name": "Python 3 (ipykernel)",
   "language": "python",
   "name": "python3"
  },
  "language_info": {
   "codemirror_mode": {
    "name": "ipython",
    "version": 3
   },
   "file_extension": ".py",
   "mimetype": "text/x-python",
   "name": "python",
   "nbconvert_exporter": "python",
   "pygments_lexer": "ipython3",
   "version": "3.10.0"
  }
 },
 "nbformat": 4,
 "nbformat_minor": 5
}
