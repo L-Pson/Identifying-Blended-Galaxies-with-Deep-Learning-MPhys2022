{
 "cells": [
  {
   "cell_type": "markdown",
   "id": "efc33a16-fb52-42e0-a800-299d7ed2fbe7",
   "metadata": {},
   "source": [
    "This notebook splits the tfData images into three portions: training (.6), validation (.2), and testing(.2)."
   ]
  },
  {
   "cell_type": "code",
   "execution_count": 1,
   "id": "7f221023-99e2-4b6c-8107-d858761f5567",
   "metadata": {},
   "outputs": [],
   "source": [
    "from os import listdir, mkdir\n",
    "from random import shuffle\n",
    "from shutil import copy, rmtree\n",
    "sourceFolder = \"./tfData\"\n",
    "trainValDestinationFolder = \"./tfData-training-and-validation\"\n",
    "testDestinationFolder = \"./tfData-testing\""
   ]
  },
  {
   "cell_type": "code",
   "execution_count": 2,
   "id": "e3b32ee2-b14d-45d1-a62e-e4450cb83378",
   "metadata": {},
   "outputs": [],
   "source": [
    "def splitData(path, trainValProportion):\n",
    "    fileList = listdir(path)\n",
    "    shuffle(fileList)\n",
    "    totalSize = len(fileList)\n",
    "    trainValSize = int(totalSize * trainValProportion)\n",
    "    trainVal = fileList[0:trainValSize]\n",
    "    test = fileList[trainValSize:]\n",
    "    \n",
    "    trainVal = [path + \"/\" + i for i in trainVal]\n",
    "    test = [path + \"/\" + i for i in test]\n",
    "    return(trainVal, test)\n",
    "\n",
    "\n",
    "(mergedTrainVal, mergedTest) = splitData(\"%s/mergedGals\" % sourceFolder, .8)\n",
    "(singleTrainVal, singleTest) = splitData(\"%s/singleGals\" % sourceFolder, .8)"
   ]
  },
  {
   "cell_type": "code",
   "execution_count": 3,
   "id": "fc52371e-0413-47f8-a97b-0a301f8d6f82",
   "metadata": {},
   "outputs": [
    {
     "name": "stdout",
     "output_type": "stream",
     "text": [
      "Deleting existing files...\n",
      "No such directory: ./tfData-training-and-validation/mergedGals, making one now...\n",
      "No such directory: ./tfData-testing/mergedGals, making one now...\n",
      "No such directory: ./tfData-training-and-validation/singleGals, making one now...\n",
      "No such directory: ./tfData-testing/singleGals, making one now...\n",
      "Existing files deleted.\n"
     ]
    }
   ],
   "source": [
    "print(\"Deleting existing files...\")\n",
    "for i in (\"mergedGals\", \"singleGals\"):\n",
    "    for j in (trainValDestinationFolder, testDestinationFolder):\n",
    "        try:\n",
    "            rmtree(j + \"/\" + i)\n",
    "        except:\n",
    "            print(\"No such directory: %s, making one now...\" % (j + \"/\" + i))\n",
    "        mkdir(j + \"/\" + i)\n",
    "print(\"Existing files deleted.\")"
   ]
  },
  {
   "cell_type": "code",
   "execution_count": 4,
   "id": "3fcbdc9b-efe2-41c9-860a-c957c5d5656b",
   "metadata": {},
   "outputs": [
    {
     "name": "stdout",
     "output_type": "stream",
     "text": [
      "Populating merged training and validation folder...\n",
      "Populating single training and validation folder...\n",
      "Populating merged testing folder...\n",
      "Populating single testing folder...\n",
      "Done.\n"
     ]
    }
   ],
   "source": [
    "print(\"Populating merged training and validation folder...\")\n",
    "for i in mergedTrainVal:\n",
    "    copy(i, \"%s/mergedGals\" % (trainValDestinationFolder))\n",
    "print(\"Populating single training and validation folder...\")\n",
    "for i in singleTrainVal:\n",
    "    copy(i, \"%s/singleGals\" % (trainValDestinationFolder))\n",
    "    \n",
    "print(\"Populating merged testing folder...\")\n",
    "for i in mergedTest:\n",
    "    copy(i, \"%s/mergedGals\" % (testDestinationFolder))\n",
    "print(\"Populating single testing folder...\")\n",
    "for i in singleTest:\n",
    "    copy(i, \"%s/singleGals\" % (testDestinationFolder))\n",
    "print(\"Done.\")"
   ]
  },
  {
   "cell_type": "code",
   "execution_count": null,
   "id": "3407bff7-9c13-4c42-9dfe-98963e3c52cf",
   "metadata": {},
   "outputs": [],
   "source": []
  }
 ],
 "metadata": {
  "kernelspec": {
   "display_name": "Python 3 (ipykernel)",
   "language": "python",
   "name": "python3"
  },
  "language_info": {
   "codemirror_mode": {
    "name": "ipython",
    "version": 3
   },
   "file_extension": ".py",
   "mimetype": "text/x-python",
   "name": "python",
   "nbconvert_exporter": "python",
   "pygments_lexer": "ipython3",
   "version": "3.10.0"
  }
 },
 "nbformat": 4,
 "nbformat_minor": 5
}
